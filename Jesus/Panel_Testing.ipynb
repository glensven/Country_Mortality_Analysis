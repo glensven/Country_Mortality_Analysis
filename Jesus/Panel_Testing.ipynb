{
 "cells": [
  {
   "cell_type": "code",
   "execution_count": null,
   "metadata": {},
   "outputs": [],
   "source": [
    "import panel as pn\n",
    "import panel.widgets as pnw\n",
    "import pandas as pd\n",
    "import numpy as np\n",
    "from panel.interact import interact\n",
    "from IPython.display import Image\n",
    "from IPython.core.display import HTML\n",
    "import param\n",
    "from pathlib import Path \n",
    "import hvplot.pandas\n",
    "from holoviews import opts\n",
    "pn.extension()"
   ]
  },
  {
   "cell_type": "markdown",
   "metadata": {},
   "source": [
    "### Dataframes"
   ]
  },
  {
   "cell_type": "code",
   "execution_count": null,
   "metadata": {},
   "outputs": [],
   "source": [
    "mortality_file_path = Path('Resources/Mortality.csv', header = 0)\n",
    "mortality_data = pd.read_csv(mortality_file_path)\n",
    "mortality_data = mortality_data.drop(['Split', 'SplitSex', 'Forecast'], axis = 1)\n",
    "mortality_data_country_indexed = mortality_data.set_index(mortality_data['CountryCode'])\n",
    "mortality_data_country_indexed.drop(columns=['CountryCode'], inplace=True)\n",
    "mortality_data_country_indexed['Date'] = pd.to_datetime(mortality_data_country_indexed.Year.astype(str), format='%Y') + \\\n",
    "             pd.to_timedelta(mortality_data_country_indexed.Week.mul(7).astype(str) + ' days')\n",
    "mortality_data_country_indexed.drop(['Year', 'Week'], axis=1, inplace = True)\n",
    "mortality_data_country_indexed.columns = ['Sex',\n",
    "                                          'Deaths: 0-14 yrs',\n",
    "                                          'Deaths: 15-64 yrs',\n",
    "                                          'Deaths: 65-74 yrs',\n",
    "                                          'Deaths: 75-84 yrs',\n",
    "                                          'Deaths: 85+ yrs',\n",
    "                                          'Deaths: Total',\n",
    "                                          'Death Rate: 0-14 yrs',\n",
    "                                          'Death Rate: 15-64 yrs',\n",
    "                                          'Death Rate: 65-74 yrs',\n",
    "                                          'Death Rate: 75-84 yrs',\n",
    "                                          'Death Rate: 85+ yrs',\n",
    "                                          'Death Rate: Total',\n",
    "                                          'Date']"
   ]
  },
  {
   "cell_type": "code",
   "execution_count": null,
   "metadata": {},
   "outputs": [],
   "source": [
    "#mortality_data_country_indexed"
   ]
  },
  {
   "cell_type": "code",
   "execution_count": null,
   "metadata": {},
   "outputs": [],
   "source": [
    "country_codes = mortality_data['CountryCode'].unique()\n",
    "#country_codes"
   ]
  },
  {
   "cell_type": "code",
   "execution_count": null,
   "metadata": {},
   "outputs": [],
   "source": []
  },
  {
   "cell_type": "code",
   "execution_count": null,
   "metadata": {},
   "outputs": [],
   "source": [
    "country_dict = dict(zip(['Australia', 'Austria', 'Belgium', 'Bulgaria', 'Canada', 'Switzerland', 'Chile', 'Czech Republic', 'Germany', 'Denmark',\n",
    "                                        'Spain', 'Estonia', 'Finland', 'France', 'England and Wales', 'Northern Ireland', 'Scotland', 'Greece', \n",
    "                                        'Croatia', 'Hungary', 'Iceland', 'Israel', 'Italy', 'South Korea', 'Lithuania', 'Luxembourg', 'Latvia', \n",
    "                                        'Netherlands', 'Norway', 'New Zealand', 'Poland', 'Portugal', 'Russia', 'Slovakia', 'Slovenia', 'Sweden', 'Taiwan', 'USA'], country_codes))\n",
    "# print(country_dict)"
   ]
  },
  {
   "cell_type": "code",
   "execution_count": null,
   "metadata": {},
   "outputs": [],
   "source": [
    "#country_dict"
   ]
  },
  {
   "cell_type": "code",
   "execution_count": null,
   "metadata": {},
   "outputs": [],
   "source": [
    "multi_select = pn.widgets.MultiSelect(name='Countries', value=['Australia'],\n",
    "    options= country_dict, size=6)\n",
    "#multi_select"
   ]
  },
  {
   "cell_type": "code",
   "execution_count": null,
   "metadata": {},
   "outputs": [],
   "source": [
    "year_slider = pn.widgets.IntRangeSlider(name='Years Slider', width=300, start=2015, end=2020, value=(2015, 2020), value_throttled=(2015, 2020))\n",
    "#year_slider"
   ]
  },
  {
   "cell_type": "code",
   "execution_count": null,
   "metadata": {},
   "outputs": [],
   "source": [
    "# Dynamic markup title for slider\n",
    "@pn.depends(year_slider.param.value_throttled)\n",
    "def year_range(year_slider):\n",
    "    return '### Yearly Data Between {start} —  {end}'.format(start=year_slider[0], end=year_slider[1])"
   ]
  },
  {
   "cell_type": "code",
   "execution_count": null,
   "metadata": {},
   "outputs": [],
   "source": [
    "pn.Row(year_range)"
   ]
  },
  {
   "cell_type": "markdown",
   "metadata": {},
   "source": [
    "## Dynamic plots"
   ]
  },
  {
   "cell_type": "code",
   "execution_count": null,
   "metadata": {},
   "outputs": [],
   "source": [
    "# @pn.depends(year_slider.param.value_throttled)\n",
    "# def plot_bar(year_slider):\n",
    "#     years_df = mortality_data_country_indexed[mortality_data_country_indexed.Date.dt.year.between(year_slider[0], year_slider[1])]\n",
    "#     return years_df.hvplot(x=\"Date\", y=(\"Deaths: 0-14 yrs\"), invert=False, height=400, groupby=[\"CountryCode\", \"Sex\"])\n",
    "\n",
    "# pn.Row(plot_bar)"
   ]
  },
  {
   "cell_type": "code",
   "execution_count": null,
   "metadata": {},
   "outputs": [],
   "source": [
    "# Dynamic plot with multiple x values\n",
    "\n",
    "# Y value multiselector\n",
    "y = pn.widgets.MultiSelect(name='Statistic', options=['Deaths: 0-14 yrs',\n",
    "                                          'Deaths: 15-64 yrs',\n",
    "                                          'Deaths: 65-74 yrs',\n",
    "                                          'Deaths: 75-84 yrs',\n",
    "                                          'Deaths: 85+ yrs',\n",
    "                                          'Deaths: Total',\n",
    "                                          'Death Rate: 0-14 yrs',\n",
    "                                          'Death Rate: 15-64 yrs',\n",
    "                                          'Death Rate: 65-74 yrs',\n",
    "                                          'Death Rate: 75-84 yrs',\n",
    "                                          'Death Rate: 85+ yrs',\n",
    "                                          'Death Rate: Total'])\n",
    "\n",
    "@pn.depends(year_slider.param.value_throttled)\n",
    "def plot_bar(year_slider):\n",
    "    years_df = mortality_data_country_indexed[mortality_data_country_indexed.Date.dt.year.between(year_slider[0], year_slider[1])]\n",
    "    return years_df.hvplot(title='Deaths by Country and Sex', \n",
    "                           x = \"Date\", \n",
    "                           y = y, \n",
    "                           value_label = \"Deaths and/or Death Rate\", \n",
    "                           invert = False, \n",
    "                           height = 400, \n",
    "                           groupby = [\"CountryCode\", \"Sex\"], \n",
    "                           widget_location = 'left_top')\n",
    "\n",
    "custom = pn.Column(pn.WidgetBox(y, year_slider), plot_bar)\n",
    "#custom"
   ]
  },
  {
   "cell_type": "code",
   "execution_count": null,
   "metadata": {},
   "outputs": [],
   "source": [
    "# mplot = pn.widgets.Select(name='# of Countries', options=['One Country', 'Two Countries', 'Three Countries', 'Four Countries'])\n",
    "\n",
    "# # Multiple y values for different plots\n",
    "# y2 = pn.widgets.MultiSelect(name='Statistic', options=['Deaths: 0-14 yrs',\n",
    "#                                           'Deaths: 15-64 yrs',\n",
    "#                                           'Deaths: 65-74 yrs',\n",
    "#                                           'Deaths: 75-84 yrs',\n",
    "#                                           'Deaths: 85+ yrs',\n",
    "#                                           'Deaths: Total',\n",
    "#                                           'Death Rate: 0-14 yrs',\n",
    "#                                           'Death Rate: 15-64 yrs',\n",
    "#                                           'Death Rate: 65-74 yrs',\n",
    "#                                           'Death Rate: 75-84 yrs',\n",
    "#                                           'Death Rate: 85+ yrs',\n",
    "#                                           'Death Rate: Total'])\n",
    "\n",
    "# y3 = pn.widgets.MultiSelect(name='Statistic', options=['Deaths: 0-14 yrs',\n",
    "#                                           'Deaths: 15-64 yrs',\n",
    "#                                           'Deaths: 65-74 yrs',\n",
    "#                                           'Deaths: 75-84 yrs',\n",
    "#                                           'Deaths: 85+ yrs',\n",
    "#                                           'Deaths: Total',\n",
    "#                                           'Death Rate: 0-14 yrs',\n",
    "#                                           'Death Rate: 15-64 yrs',\n",
    "#                                           'Death Rate: 65-74 yrs',\n",
    "#                                           'Death Rate: 75-84 yrs',\n",
    "#                                           'Death Rate: 85+ yrs',\n",
    "#                                           'Death Rate: Total'])\n",
    "\n",
    "# y4 = pn.widgets.MultiSelect(name='Statistic', options=['Deaths: 0-14 yrs',\n",
    "#                                           'Deaths: 15-64 yrs',\n",
    "#                                           'Deaths: 65-74 yrs',\n",
    "#                                           'Deaths: 75-84 yrs',\n",
    "#                                           'Deaths: 85+ yrs',\n",
    "#                                           'Deaths: Total',\n",
    "#                                           'Death Rate: 0-14 yrs',\n",
    "#                                           'Death Rate: 15-64 yrs',\n",
    "#                                           'Death Rate: 65-74 yrs',\n",
    "#                                           'Death Rate: 75-84 yrs',\n",
    "#                                           'Death Rate: 85+ yrs',\n",
    "#                                           'Death Rate: Total'])\n",
    "\n",
    "# # Plot functions for multiple plots\n",
    "# @pn.depends(year_slider.param.value_throttled)\n",
    "# def plot_bar_2(year_slider):\n",
    "#     years_df_2 = mortality_data_country_indexed[mortality_data_country_indexed.Date.dt.year.between(year_slider[0], year_slider[1])]\n",
    "#     return years_df_2.hvplot(title='Deaths by Country and Sex', \n",
    "#                            x = \"Date\", \n",
    "#                            y = y2, \n",
    "#                            value_label = \"Deaths and/or Death Rate\", \n",
    "#                            invert = False, \n",
    "#                            height = 400, \n",
    "#                            groupby = [\"CountryCode\", \"Sex\"], \n",
    "#                            widget_location = 'left_top')\n",
    "\n",
    "# @pn.depends(year_slider.param.value_throttled)\n",
    "# def plot_bar_3(year_slider):\n",
    "#     years_df_3 = mortality_data_country_indexed[mortality_data_country_indexed.Date.dt.year.between(year_slider[0], year_slider[1])]\n",
    "#     return years_df_3.hvplot(title='Deaths by Country and Sex', \n",
    "#                            x = \"Date\", \n",
    "#                            y = y3, \n",
    "#                            value_label = \"Deaths and/or Death Rate\", \n",
    "#                            invert = False, \n",
    "#                            height = 400, \n",
    "#                            groupby = [\"CountryCode\", \"Sex\"], \n",
    "#                            widget_location = 'left_top')\n",
    "\n",
    "# @pn.depends(year_slider.param.value_throttled)\n",
    "# def plot_bar_4(year_slider):\n",
    "#     years_df_4 = mortality_data_country_indexed[mortality_data_country_indexed.Date.dt.year.between(year_slider[0], year_slider[1])]\n",
    "#     return years_df_4.hvplot(title='Deaths by Country and Sex', \n",
    "#                            x = \"Date\", \n",
    "#                            y = y4, \n",
    "#                            value_label = \"Deaths and/or Death Rate\", \n",
    "#                            invert = False, \n",
    "#                            height = 400, \n",
    "#                            groupby = [\"CountryCode\", \"Sex\"], \n",
    "#                            widget_location = 'left_top',)\n"
   ]
  },
  {
   "cell_type": "code",
   "execution_count": null,
   "metadata": {},
   "outputs": [],
   "source": [
    "# # Placing all plots in their own widget\n",
    "# plot_widget_1 = pn.WidgetBox(y, plot_bar)\n",
    "# plot_widget_2 = pn.WidgetBox(y2, plot_bar_2)\n",
    "# plot_widget_3 = pn.WidgetBox(y3, plot_bar_3)\n",
    "# plot_widget_4 = pn.WidgetBox(y4, plot_bar_4)\n",
    "\n",
    "# new_custom = pn.Column(mplot, year_slider, plot_widget_1, plot_widget_2, plot_widget_3, plot_widget_4)"
   ]
  },
  {
   "cell_type": "code",
   "execution_count": null,
   "metadata": {},
   "outputs": [],
   "source": [
    "# Event update for enabling multiple plots\n",
    "# def update(event):\n",
    "#     if mplot.value == 'One Country':\n",
    "#         plot_widget_1.disabled = False\n",
    "#         plot_widget_2.disabled = True\n",
    "#         plot_widget_3.disabled = True\n",
    "#         plot_widget_4.disabled = True\n",
    "#     if mplot.value == 'Two Countries':\n",
    "#         plot_widget_1.disabled = False\n",
    "#         plot_widget_2.disabled = False\n",
    "#         plot_widget_3.disabled = True\n",
    "#         plot_widget_4.disabled = True\n",
    "#     if mplot.value == 'Three Countries':\n",
    "#         plot_widget_1.disabled = False\n",
    "#         plot_widget_2.disabled = False\n",
    "#         plot_widget_3.disabled = False\n",
    "#         plot_widget_4.disabled = True\n",
    "#     else:\n",
    "#         plot_widget_1.disabled = False\n",
    "#         plot_widget_2.disabled = False\n",
    "#         plot_widget_3.disabled = False\n",
    "#         plot_widget_4.disabled = False\n",
    "        \n",
    "# mplot.param.watch(update, 'value');"
   ]
  },
  {
   "cell_type": "code",
   "execution_count": null,
   "metadata": {},
   "outputs": [],
   "source": [
    "# # Dashboard elements\n",
    "# dash_title = \"# Country Mortality Analysis\"\n",
    "\n",
    "# # Dashboard description\n",
    "# dash_desc = \"Our project aims to visualize different metrics of COVID-19, specifically focusing on excess death\"\n",
    "# text = \"Lorem ipsum dolor sit amet, consectetur adipiscing elit, sed do eiusmod tempor incididunt ut labore et dolore magna aliqua. Ut enim ad minim veniam, quis nostrud exercitation ullamco laboris nisi ut aliquip ex ea commodo consequat. Duis aute irure dolor in reprehenderit in voluptate velit esse cillum dolore eu fugiat nulla pariatur. Excepteur sint occaecat cupidatat non proident, sunt in culpa qui officia deserunt mollit anim id est laborum.\"\n",
    "\n",
    "# header_box = pn.WidgetBox(dash_title, \n",
    "#                           dash_desc, \n",
    "#                           text)\n",
    "\n",
    "# main_box = pn.WidgetBox(year_range, new_custom)"
   ]
  },
  {
   "cell_type": "code",
   "execution_count": null,
   "metadata": {},
   "outputs": [],
   "source": [
    "dashboard = pn.Row(header_box, main_box, sizing_mode=\"stretch_width\")"
   ]
  },
  {
   "cell_type": "code",
   "execution_count": null,
   "metadata": {},
   "outputs": [],
   "source": [
    "dashboard.embed()"
   ]
  }
 ],
 "metadata": {
  "kernelspec": {
   "display_name": "Python 3",
   "language": "python",
   "name": "python3"
  },
  "language_info": {
   "codemirror_mode": {
    "name": "ipython",
    "version": 3
   },
   "file_extension": ".py",
   "mimetype": "text/x-python",
   "name": "python",
   "nbconvert_exporter": "python",
   "pygments_lexer": "ipython3",
   "version": "3.7.9"
  }
 },
 "nbformat": 4,
 "nbformat_minor": 4
}
