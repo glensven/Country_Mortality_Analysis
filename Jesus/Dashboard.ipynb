{
 "cells": [
  {
   "cell_type": "code",
   "execution_count": 4,
   "metadata": {},
   "outputs": [],
   "source": [
    "import panel as pn\n",
    "import panel.widgets as pnw\n",
    "import pandas as pd\n",
    "import numpy as np\n",
    "from panel.interact import interact\n",
    "from IPython.display import Image\n",
    "from IPython.core.display import HTML\n",
    "import param\n",
    "from pathlib import Path \n",
    "import hvplot.pandas\n",
    "from holoviews import opts\n",
    "pn.extension()"
   ]
  },
  {
   "cell_type": "code",
   "execution_count": 2,
   "metadata": {},
   "outputs": [],
   "source": [
    "#Dictionaries for plot storing\n",
    "\n",
    "# #Dictionary storing logos\n",
    "# logo_dict = [\n",
    "#     {'Crypto':'BTC','Logo':Image(filename='Plots/btc_logo.png')},\n",
    "#     {'Crypto':'ETH','Logo':Image(filename='Plots/eth_logo.png')},\n",
    "#     {'Crypto':'Doge', 'Logo':Image(filename='Plots/doge_logo.png')}\n",
    "# ]\n",
    "\n",
    "# #Each dictionary stores a different type of plot\n",
    "# heat_dict_d = [\n",
    "#     {'Crypto':'BTC','Heat_d':Image(filename='Plots/btc_heat_d.png')},\n",
    "#     {'Crypto':'ETH','Heat_d':Image(filename='Plots/eth_heat_d.png')},\n",
    "#     {'Crypto':'Doge', 'Heat_d':Image(filename='Plots/doge_heat_d.png')}\n",
    "# ]\n",
    "\n"
   ]
  },
  {
   "cell_type": "code",
   "execution_count": 5,
   "metadata": {},
   "outputs": [],
   "source": [
    "mortality_file_path = Path('Resources/Mortality.csv', header = 0)\n",
    "mortality_data = pd.read_csv(mortality_file_path)\n",
    "mortality_data = mortality_data.drop(['Split', 'SplitSex', 'Forecast'], axis = 1)\n",
    "mortality_data_country_indexed = mortality_data.set_index(mortality_data['CountryCode'])\n",
    "mortality_data_country_indexed.drop(columns=['CountryCode'], inplace=True)\n",
    "# mortality_data_country_indexed.drop(1, inplace = True)\n",
    "mortality_data_country_indexed.columns = ['Year', 'Week', 'Sex',\n",
    "                                          'Deaths: 0-14 yrs',\n",
    "                                          'Deaths: 15-64 yrs',\n",
    "                                          'Deaths: 65-74 yrs',\n",
    "                                          'Deaths: 75-84 yrs',\n",
    "                                          'Deaths: 85+ yrs',\n",
    "                                          'Deaths: Total',\n",
    "                                          'Death Rate: 0-14 yrs',\n",
    "                                          'Death Rate: 15-64 yrs',\n",
    "                                          'Death Rate: 65-74 yrs',\n",
    "                                          'Death Rate: 75-84 yrs',\n",
    "                                          'Death Rate: 85+ yrs',\n",
    "                                          'Death Rate: Total']\n",
    "# mortality_data_country_indexed.head()"
   ]
  },
  {
   "cell_type": "code",
   "execution_count": 6,
   "metadata": {},
   "outputs": [],
   "source": [
    "country_codes = mortality_data['CountryCode'].unique()\n",
    "# print(country_codes)"
   ]
  },
  {
   "cell_type": "code",
   "execution_count": 7,
   "metadata": {},
   "outputs": [],
   "source": [
    "country_dict = dict(zip(country_codes, ['Australia', 'Austria', 'Belgium', 'Bulgaria', 'Canada', 'Switzerland', 'Chile', 'Czech Republic', 'Germany', 'Denmark',\n",
    "                                        'Spain', 'Estonia', 'Finland', 'France', 'England and Wales', 'Northern Ireland', 'Scotland', 'Greece', \n",
    "                                        'Croatia', 'Hungary', 'Iceland', 'Israel', 'Italy', 'South Korea', 'Lithuania', 'Luxembourg', 'Latvia', \n",
    "                                        'Netherlands', 'Norway', 'New Zealand', 'Poland', 'Portugal', 'Russia', 'Slovakia', 'Slovenia', 'Sweden', 'Taiwan', 'USA']))\n",
    "# print(country_dict)"
   ]
  },
  {
   "cell_type": "code",
   "execution_count": 8,
   "metadata": {},
   "outputs": [],
   "source": [
    "# Turning dictionary into a dataframe, should help organize dropdown selector with param\n",
    "dash_df = pd.DataFrame.from_dict(country_dict, orient='index')\n",
    "dash_df.rename_axis('codes', inplace=True)\n",
    "dash_df.rename(columns={0:'country'}, inplace=True)\n",
    "# dash_df"
   ]
  },
  {
   "cell_type": "code",
   "execution_count": null,
   "metadata": {},
   "outputs": [],
   "source": [
    "#Dashboard construction\n",
    "\n",
    "# Class containing dropdown menu for cryptos, relevant plots and dataframes\n",
    "class MortalityDashboard(param.Parameterized):\n",
    "    \n",
    "    #Crypto dropdown selector\n",
    "    Country = param.ObjectSelector(default='Australia', objects=list(dash_df.country.unique()))\n",
    "    \n",
    "#     def rel_data(self):\n",
    "#         crypto_data = dash_df[(dash_df.Crypto==self.Crypto)].copy()\n",
    "#         return crypto_data\n",
    "\n",
    "    "
   ]
  },
  {
   "cell_type": "code",
   "execution_count": null,
   "metadata": {},
   "outputs": [],
   "source": [
    "# Optionally creating a multiselect dropdown type menu for contries, maybe better\n",
    "multi_select = pn.widgets.MultiSelect(name='Countries', value=['Australia'],\n",
    "    options= country_dict, size=6)\n",
    "multi_select"
   ]
  },
  {
   "cell_type": "code",
   "execution_count": null,
   "metadata": {},
   "outputs": [],
   "source": [
    "covid_logo_dict = pn.panel('Resources/covlogos.png', width=200, align='start')\n",
    "covid_logo_dict"
   ]
  },
  {
   "cell_type": "code",
   "execution_count": null,
   "metadata": {},
   "outputs": [],
   "source": [
    "# Dynamic bar graph from slider and dropdown\n",
    "years_df = mortality_data_country_indexed[mortality_data_country_indexed.Year.between(2015, 2020)]\n",
    "# years_df\n",
    "# bar_table = years_df[\"Deaths: 0-14 yrs\"]\n",
    "# bar_table\n",
    "years_df.hvplot(y=['Deaths: 0-14 yrs', 'Deaths: 15-64 yrs'], x=\"Week\", groupby=[\"CountryCode\", \"Sex\"])"
   ]
  },
  {
   "cell_type": "code",
   "execution_count": null,
   "metadata": {},
   "outputs": [],
   "source": [
    "# Creating a year slider for selecting specific years worth of data, could be modified to focus on specific weeks/months\n",
    "year_slider = pn.widgets.IntRangeSlider(name='Years Slider', width=300, start=2015, end=2020, value=(2015, 2020), value_throttled=(2015, 2020))\n",
    "year_slider"
   ]
  },
  {
   "cell_type": "code",
   "execution_count": null,
   "metadata": {},
   "outputs": [],
   "source": [
    "# Dynamic markup title for slider\n",
    "@pn.depends(year_slider.param.value_throttled)\n",
    "def year_range(year_slider):\n",
    "    return '### Yearly Data Between {start} —  {end}'.format(start=year_slider[0], end=year_slider[1])"
   ]
  },
  {
   "cell_type": "code",
   "execution_count": null,
   "metadata": {},
   "outputs": [],
   "source": [
    "pn.Row(year_range)"
   ]
  },
  {
   "cell_type": "code",
   "execution_count": null,
   "metadata": {},
   "outputs": [],
   "source": [
    "# Bar chart construction\n",
    "@pn.depends(year_slider.param.value_throttled)\n",
    "def plot_bar(year_slider):\n",
    "    years_df = mortality_data_country_indexed[mortality_data_country_indexed.Year.between(year_slider[0], year_slider[1])]\n",
    "    bar_table = years_df[\"Deaths: 0-14 yrs\"].reset_index()\n",
    "    return bar_table[:10].sort_values(\"Deaths: 0-14 yrs\").hvplot(invert=False, legend=\"bottom_right\", height=400)\n",
    "\n",
    "pn.Row(plot_bar)"
   ]
  },
  {
   "cell_type": "code",
   "execution_count": null,
   "metadata": {},
   "outputs": [],
   "source": [
    "CD = MortalityDashboard()"
   ]
  },
  {
   "cell_type": "code",
   "execution_count": null,
   "metadata": {},
   "outputs": [],
   "source": [
    "# Dashboard elements\n",
    "dash_title = \"# Country Mortality Analysis\"\n",
    "\n",
    "# Dashboard description\n",
    "dash_desc = \"Our project aims to visualize different metrics of COVID-19, specifically focusing on excess death\"\n",
    "text = \"Lorem ipsum dolor sit amet, consectetur adipiscing elit, sed do eiusmod tempor incididunt ut labore et dolore magna aliqua. Ut enim ad minim veniam, quis nostrud exercitation ullamco laboris nisi ut aliquip ex ea commodo consequat. Duis aute irure dolor in reprehenderit in voluptate velit esse cillum dolore eu fugiat nulla pariatur. Excepteur sint occaecat cupidatat non proident, sunt in culpa qui officia deserunt mollit anim id est laborum.\"\n",
    "\n",
    "# Dashboard logo\n",
    "covid_logo_dict = pn.panel('Resources/covlogos.png', width=250, align='center')\n",
    "\n",
    "# Header\n",
    "header_box = pn.WidgetBox(dash_title, \n",
    "                          dash_desc, \n",
    "                          covid_logo_dict, \n",
    "#                           CD.param, \n",
    "                          multi_select,\n",
    "                          year_slider, \n",
    "                          pn.Row(year_range),\n",
    "                          plot_bar,\n",
    "                          pn.layout.Spacer(margin=125), \n",
    "                          text, \n",
    "                          width=1000, \n",
    "                          height=1000, \n",
    "                          align=\"center\"\n",
    "                         )\n",
    "\n",
    "#Placing plots in tabs\n",
    "\n",
    "# # Basic tab construction, with tab name and respective plot\n",
    "# heat_tabs = pn.Tabs(\n",
    "#     (\"Daily\", CD.heat_plot_d),\n",
    "#     (\"Weekly\", CD.heat_plot_w),\n",
    "#     (\"Monthly\", CD.heat_plot_m),\n",
    "#     (\"Yearly\", CD.heat_plot_y)\n",
    "# )\n",
    "\n",
    "# # Rows containing two plots, respective tabs will have name of analysis and plots\n",
    "\n",
    "# pol_row = pn.Row(\n",
    "#     CD.pol_plot, CD.vpol_plot\n",
    "# )\n",
    "\n",
    "# comp_row = pn.Row(\n",
    "#     CD.vcomp_plot, CD.vcompr_plot\n",
    "# )\n",
    "\n",
    "# lstm_rnn_row = pn.Row(\n",
    "#     CD.lstm_plot, CD.rnn_plot\n",
    "# )\n",
    "\n",
    "# cm_tabs = pn.Tabs(\n",
    "#     (\"Polarity\", pol_row),\n",
    "#     (\"Compound\", comp_row),\n",
    "#     (\"LSTM-RNN\", lstm_rnn_row)\n",
    "# )\n",
    "\n",
    "#Dashboard construction\n",
    "dashboard = pn.Column(\n",
    "    header_box\n",
    "#     dash_title,\n",
    "#     dash_desc,\n",
    "#     mortality_row,\n",
    "#     \"## Heatmap\",\n",
    "#     heat_tabs,\n",
    "#     \"## Line Plot\",\n",
    "#     line_tabs,\n",
    "#     \"## Scatter Plot\",\n",
    "#     CD.scatter_plot,\n",
    "#     \"## Histograms\",\n",
    "#     hist_tabs,\n",
    "#     cm_tabs\n",
    ")"
   ]
  },
  {
   "cell_type": "code",
   "execution_count": null,
   "metadata": {},
   "outputs": [],
   "source": [
    "dashboard.embed()"
   ]
  },
  {
   "cell_type": "code",
   "execution_count": null,
   "metadata": {},
   "outputs": [],
   "source": []
  }
 ],
 "metadata": {
  "kernelspec": {
   "display_name": "Python 3",
   "language": "python",
   "name": "python3"
  },
  "language_info": {
   "codemirror_mode": {
    "name": "ipython",
    "version": 3
   },
   "file_extension": ".py",
   "mimetype": "text/x-python",
   "name": "python",
   "nbconvert_exporter": "python",
   "pygments_lexer": "ipython3",
   "version": "3.7.9"
  }
 },
 "nbformat": 4,
 "nbformat_minor": 4
}
